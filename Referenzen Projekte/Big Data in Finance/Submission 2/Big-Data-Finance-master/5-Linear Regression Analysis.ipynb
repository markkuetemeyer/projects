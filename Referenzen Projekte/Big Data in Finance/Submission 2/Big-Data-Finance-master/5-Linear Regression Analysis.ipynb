{
 "cells": [
  {
   "cell_type": "markdown",
   "metadata": {},
   "source": [
    "<b> Regression Analysis </b>\n",
    "\n",
    "Aim of this notebook is to use regression models to see how accuracy of models change when conducting analysis with and without features that highly correlate with minority and sex. This analysis is meant to be used as a benchmark when comparing these models to a deep learning model."
   ]
  },
  {
   "cell_type": "code",
   "execution_count": null,
   "metadata": {},
   "outputs": [],
   "source": [
    "### Process ###\n",
    "\n",
    "## Get data and create df\n",
    "\n",
    "## Preprocess\n",
    "    ## Change default to boolean numeric (0,1)\n",
    "    ## Convert occupation and ZIP codes into numbers (dummys)\n",
    "    \n",
    "## Create Train Test Splits\n",
    "\n",
    "## Create linear regression models with different input variables\n",
    "\n",
    "## Check for accrucay"
   ]
  },
  {
   "cell_type": "markdown",
   "metadata": {},
   "source": [
    "Observations:\n",
    "    1. Minority perfecty correlated with defaulting\n",
    "    2. Rent closely correlated with defaulting\n",
    "    2. Job security negatively correlated with defaulting\n",
    "    3. Income and education closely correlated\n",
    "    4. Gender negatively correlated with income and education\n",
    "    5. Minority negatively correlated with job security"
   ]
  },
  {
   "cell_type": "code",
   "execution_count": null,
   "metadata": {},
   "outputs": [],
   "source": [
    "import pandas as pd\n",
    "import matplotlib.pyplot as plt\n",
    "from sklearn.linear_model import LinearRegression\n",
    "from sklearn.model_selection import train_test_split"
   ]
  },
  {
   "cell_type": "code",
   "execution_count": 21,
   "metadata": {
    "scrolled": true
   },
   "outputs": [
    {
     "data": {
      "text/html": [
       "<div>\n",
       "<style scoped>\n",
       "    .dataframe tbody tr th:only-of-type {\n",
       "        vertical-align: middle;\n",
       "    }\n",
       "\n",
       "    .dataframe tbody tr th {\n",
       "        vertical-align: top;\n",
       "    }\n",
       "\n",
       "    .dataframe thead th {\n",
       "        text-align: right;\n",
       "    }\n",
       "</style>\n",
       "<table border=\"1\" class=\"dataframe\">\n",
       "  <thead>\n",
       "    <tr style=\"text-align: right;\">\n",
       "      <th></th>\n",
       "      <th>Unnamed: 0</th>\n",
       "      <th>minority</th>\n",
       "      <th>sex</th>\n",
       "      <th>ZIP</th>\n",
       "      <th>rent</th>\n",
       "      <th>education</th>\n",
       "      <th>age</th>\n",
       "      <th>income</th>\n",
       "      <th>loan_size</th>\n",
       "      <th>payment_timing</th>\n",
       "      <th>year</th>\n",
       "      <th>job_stability</th>\n",
       "      <th>default</th>\n",
       "      <th>occupation</th>\n",
       "    </tr>\n",
       "  </thead>\n",
       "  <tbody>\n",
       "    <tr>\n",
       "      <th>0</th>\n",
       "      <td>0</td>\n",
       "      <td>1</td>\n",
       "      <td>0</td>\n",
       "      <td>MT04PA</td>\n",
       "      <td>1</td>\n",
       "      <td>57.230650</td>\n",
       "      <td>36.050927</td>\n",
       "      <td>205168.022244</td>\n",
       "      <td>7600.292199</td>\n",
       "      <td>3.302193</td>\n",
       "      <td>0</td>\n",
       "      <td>3.015554</td>\n",
       "      <td>True</td>\n",
       "      <td>MZ10CD</td>\n",
       "    </tr>\n",
       "    <tr>\n",
       "      <th>1</th>\n",
       "      <td>1</td>\n",
       "      <td>1</td>\n",
       "      <td>0</td>\n",
       "      <td>MT04PA</td>\n",
       "      <td>1</td>\n",
       "      <td>45.891343</td>\n",
       "      <td>59.525251</td>\n",
       "      <td>187530.409981</td>\n",
       "      <td>5534.271289</td>\n",
       "      <td>3.843058</td>\n",
       "      <td>0</td>\n",
       "      <td>5.938132</td>\n",
       "      <td>True</td>\n",
       "      <td>MZ10CD</td>\n",
       "    </tr>\n",
       "    <tr>\n",
       "      <th>2</th>\n",
       "      <td>2</td>\n",
       "      <td>1</td>\n",
       "      <td>0</td>\n",
       "      <td>MT04PA</td>\n",
       "      <td>1</td>\n",
       "      <td>46.775489</td>\n",
       "      <td>67.338108</td>\n",
       "      <td>196912.006690</td>\n",
       "      <td>2009.903438</td>\n",
       "      <td>2.059034</td>\n",
       "      <td>0</td>\n",
       "      <td>2.190777</td>\n",
       "      <td>True</td>\n",
       "      <td>MZ10CD</td>\n",
       "    </tr>\n",
       "    <tr>\n",
       "      <th>3</th>\n",
       "      <td>3</td>\n",
       "      <td>1</td>\n",
       "      <td>0</td>\n",
       "      <td>MT04PA</td>\n",
       "      <td>1</td>\n",
       "      <td>41.784839</td>\n",
       "      <td>24.067401</td>\n",
       "      <td>132911.650615</td>\n",
       "      <td>3112.280893</td>\n",
       "      <td>3.936169</td>\n",
       "      <td>0</td>\n",
       "      <td>1.725860</td>\n",
       "      <td>True</td>\n",
       "      <td>MZ10CD</td>\n",
       "    </tr>\n",
       "    <tr>\n",
       "      <th>4</th>\n",
       "      <td>4</td>\n",
       "      <td>1</td>\n",
       "      <td>0</td>\n",
       "      <td>MT04PA</td>\n",
       "      <td>1</td>\n",
       "      <td>41.744838</td>\n",
       "      <td>47.496605</td>\n",
       "      <td>161162.551205</td>\n",
       "      <td>1372.077093</td>\n",
       "      <td>3.709910</td>\n",
       "      <td>0</td>\n",
       "      <td>0.883104</td>\n",
       "      <td>True</td>\n",
       "      <td>MZ10CD</td>\n",
       "    </tr>\n",
       "  </tbody>\n",
       "</table>\n",
       "</div>"
      ],
      "text/plain": [
       "   Unnamed: 0  minority  sex     ZIP  rent  education        age  \\\n",
       "0           0         1    0  MT04PA     1  57.230650  36.050927   \n",
       "1           1         1    0  MT04PA     1  45.891343  59.525251   \n",
       "2           2         1    0  MT04PA     1  46.775489  67.338108   \n",
       "3           3         1    0  MT04PA     1  41.784839  24.067401   \n",
       "4           4         1    0  MT04PA     1  41.744838  47.496605   \n",
       "\n",
       "          income    loan_size  payment_timing  year  job_stability  default  \\\n",
       "0  205168.022244  7600.292199        3.302193     0       3.015554     True   \n",
       "1  187530.409981  5534.271289        3.843058     0       5.938132     True   \n",
       "2  196912.006690  2009.903438        2.059034     0       2.190777     True   \n",
       "3  132911.650615  3112.280893        3.936169     0       1.725860     True   \n",
       "4  161162.551205  1372.077093        3.709910     0       0.883104     True   \n",
       "\n",
       "  occupation  \n",
       "0     MZ10CD  \n",
       "1     MZ10CD  \n",
       "2     MZ10CD  \n",
       "3     MZ10CD  \n",
       "4     MZ10CD  "
      ]
     },
     "execution_count": 21,
     "metadata": {},
     "output_type": "execute_result"
    }
   ],
   "source": [
    "# Get Data and create DF\n",
    "\n",
    "df_train = pd.read_csv(\"train.csv\")\n",
    "df_test = pd.read_csv(\"test.csv\")\n",
    "df_train.head()"
   ]
  },
  {
   "cell_type": "markdown",
   "metadata": {},
   "source": [
    "---------"
   ]
  },
  {
   "cell_type": "code",
   "execution_count": 98,
   "metadata": {
    "scrolled": true
   },
   "outputs": [
    {
     "data": {
      "text/html": [
       "<div>\n",
       "<style scoped>\n",
       "    .dataframe tbody tr th:only-of-type {\n",
       "        vertical-align: middle;\n",
       "    }\n",
       "\n",
       "    .dataframe tbody tr th {\n",
       "        vertical-align: top;\n",
       "    }\n",
       "\n",
       "    .dataframe thead th {\n",
       "        text-align: right;\n",
       "    }\n",
       "</style>\n",
       "<table border=\"1\" class=\"dataframe\">\n",
       "  <thead>\n",
       "    <tr style=\"text-align: right;\">\n",
       "      <th></th>\n",
       "      <th>Unnamed: 0</th>\n",
       "      <th>minority</th>\n",
       "      <th>sex</th>\n",
       "      <th>ZIP</th>\n",
       "      <th>rent</th>\n",
       "      <th>education</th>\n",
       "      <th>age</th>\n",
       "      <th>income</th>\n",
       "      <th>loan_size</th>\n",
       "      <th>payment_timing</th>\n",
       "      <th>year</th>\n",
       "      <th>job_stability</th>\n",
       "      <th>default</th>\n",
       "      <th>occupation</th>\n",
       "    </tr>\n",
       "  </thead>\n",
       "  <tbody>\n",
       "    <tr>\n",
       "      <th>0</th>\n",
       "      <td>0</td>\n",
       "      <td>1</td>\n",
       "      <td>0</td>\n",
       "      <td>0.0</td>\n",
       "      <td>1</td>\n",
       "      <td>57.230650</td>\n",
       "      <td>36.050927</td>\n",
       "      <td>205168.022244</td>\n",
       "      <td>7600.292199</td>\n",
       "      <td>3.302193</td>\n",
       "      <td>0</td>\n",
       "      <td>3.015554</td>\n",
       "      <td>1</td>\n",
       "      <td>0.0</td>\n",
       "    </tr>\n",
       "    <tr>\n",
       "      <th>1</th>\n",
       "      <td>1</td>\n",
       "      <td>1</td>\n",
       "      <td>0</td>\n",
       "      <td>0.0</td>\n",
       "      <td>1</td>\n",
       "      <td>45.891343</td>\n",
       "      <td>59.525251</td>\n",
       "      <td>187530.409981</td>\n",
       "      <td>5534.271289</td>\n",
       "      <td>3.843058</td>\n",
       "      <td>0</td>\n",
       "      <td>5.938132</td>\n",
       "      <td>1</td>\n",
       "      <td>0.0</td>\n",
       "    </tr>\n",
       "    <tr>\n",
       "      <th>2</th>\n",
       "      <td>2</td>\n",
       "      <td>1</td>\n",
       "      <td>0</td>\n",
       "      <td>0.0</td>\n",
       "      <td>1</td>\n",
       "      <td>46.775489</td>\n",
       "      <td>67.338108</td>\n",
       "      <td>196912.006690</td>\n",
       "      <td>2009.903438</td>\n",
       "      <td>2.059034</td>\n",
       "      <td>0</td>\n",
       "      <td>2.190777</td>\n",
       "      <td>1</td>\n",
       "      <td>0.0</td>\n",
       "    </tr>\n",
       "    <tr>\n",
       "      <th>3</th>\n",
       "      <td>3</td>\n",
       "      <td>1</td>\n",
       "      <td>0</td>\n",
       "      <td>0.0</td>\n",
       "      <td>1</td>\n",
       "      <td>41.784839</td>\n",
       "      <td>24.067401</td>\n",
       "      <td>132911.650615</td>\n",
       "      <td>3112.280893</td>\n",
       "      <td>3.936169</td>\n",
       "      <td>0</td>\n",
       "      <td>1.725860</td>\n",
       "      <td>1</td>\n",
       "      <td>0.0</td>\n",
       "    </tr>\n",
       "    <tr>\n",
       "      <th>4</th>\n",
       "      <td>4</td>\n",
       "      <td>1</td>\n",
       "      <td>0</td>\n",
       "      <td>0.0</td>\n",
       "      <td>1</td>\n",
       "      <td>41.744838</td>\n",
       "      <td>47.496605</td>\n",
       "      <td>161162.551205</td>\n",
       "      <td>1372.077093</td>\n",
       "      <td>3.709910</td>\n",
       "      <td>0</td>\n",
       "      <td>0.883104</td>\n",
       "      <td>1</td>\n",
       "      <td>0.0</td>\n",
       "    </tr>\n",
       "  </tbody>\n",
       "</table>\n",
       "</div>"
      ],
      "text/plain": [
       "   Unnamed: 0  minority  sex  ZIP  rent  education        age         income  \\\n",
       "0           0         1    0  0.0     1  57.230650  36.050927  205168.022244   \n",
       "1           1         1    0  0.0     1  45.891343  59.525251  187530.409981   \n",
       "2           2         1    0  0.0     1  46.775489  67.338108  196912.006690   \n",
       "3           3         1    0  0.0     1  41.784839  24.067401  132911.650615   \n",
       "4           4         1    0  0.0     1  41.744838  47.496605  161162.551205   \n",
       "\n",
       "     loan_size  payment_timing  year  job_stability  default  occupation  \n",
       "0  7600.292199        3.302193     0       3.015554        1         0.0  \n",
       "1  5534.271289        3.843058     0       5.938132        1         0.0  \n",
       "2  2009.903438        2.059034     0       2.190777        1         0.0  \n",
       "3  3112.280893        3.936169     0       1.725860        1         0.0  \n",
       "4  1372.077093        3.709910     0       0.883104        1         0.0  "
      ]
     },
     "execution_count": 98,
     "metadata": {},
     "output_type": "execute_result"
    }
   ],
   "source": [
    "### Preprocess\n",
    "\n",
    "# Change boolean into number\n",
    "result = df_train[\"default\"].astype(int)\n",
    "df_train[\"default\"] = result\n",
    "\n",
    "# Create dummys for ZIP and occupation\n",
    "df_train[\"ZIP\"] = pd.get_dummies(df_train[\"ZIP\"])\n",
    "df_train[\"occupation\"] = pd.get_dummies(df_train[\"occupation\"])\n",
    "\n",
    "# Convert from uint to float\n",
    "df_train[\"ZIP\"] = df_train[\"ZIP\"].astype(float)\n",
    "df_train[\"occupation\"] = df_train[\"occupation\"].astype(float)\n",
    "\n",
    "df_train.head()"
   ]
  },
  {
   "cell_type": "markdown",
   "metadata": {},
   "source": [
    "-----------------"
   ]
  },
  {
   "cell_type": "code",
   "execution_count": 99,
   "metadata": {},
   "outputs": [],
   "source": [
    "# Train_test split \n",
    "\n",
    "X = df_train.drop([\"default\"],axis=1).values\n",
    "y = df_train[\"default\"].values\n",
    "\n",
    "X_train, X_test, y_train, y_test = train_test_split(X,y,test_size=0.25, random_state = 42)"
   ]
  },
  {
   "cell_type": "code",
   "execution_count": 97,
   "metadata": {},
   "outputs": [
    {
     "name": "stdout",
     "output_type": "stream",
     "text": [
      "Intercept: 0.17427083758841833\n",
      "\n",
      "Accuracy: 0.9955245253956022\n"
     ]
    }
   ],
   "source": [
    "# First Model with all features\n",
    "\n",
    "model_1 = LinearRegression()\n",
    "model_1.fit(X_train,y_train)\n",
    "\n",
    "print(\"Intercept: \" + str(model_1.intercept_))\n",
    "# print(\"Coef: \"      + str(model_1.coef_))\n",
    "print()\n",
    "print(\"Accuracy: \"      + str(model_1.score(X_test,y_test)))"
   ]
  },
  {
   "cell_type": "markdown",
   "metadata": {},
   "source": [
    "-------"
   ]
  },
  {
   "cell_type": "code",
   "execution_count": 113,
   "metadata": {},
   "outputs": [
    {
     "name": "stdout",
     "output_type": "stream",
     "text": [
      "Intercept: 1.011218536456691\n",
      "\n",
      "Accuracy: 0.9955211873444626\n"
     ]
    }
   ],
   "source": [
    "# Withouth minority and sex\n",
    "\n",
    "# Train_test split for test dataset\n",
    "X = df_train.drop([\"default\",\"minority\",\"sex\"],axis=1).values\n",
    "y = df_train[\"default\"].values\n",
    "\n",
    "X_train, X_test, y_train, y_test = train_test_split(X,y,test_size=0.25, random_state = 42)\n",
    "\n",
    "# First Model with all features\n",
    "\n",
    "model_3 = LinearRegression()\n",
    "model_3.fit(X_train,y_train)\n",
    "\n",
    "print(\"Intercept: \" + str(model_3.intercept_))\n",
    "print()\n",
    "print(\"Accuracy: \"      + str(model_3.score(X_test,y_test)))\n"
   ]
  },
  {
   "cell_type": "code",
   "execution_count": 117,
   "metadata": {},
   "outputs": [
    {
     "name": "stdout",
     "output_type": "stream",
     "text": [
      "Intercept: 1.0005313042458392\n",
      "\n",
      "Accuracy: 0.9946948654327047\n"
     ]
    }
   ],
   "source": [
    "# Without income, job stability, minority\n",
    "\n",
    "# Train_test split for test dataset\n",
    "X = df_train.drop([\"default\",\"income\",\"job_stability\",\"minority\"],axis=1).values\n",
    "y = df_train[\"default\"].values\n",
    "\n",
    "X_train, X_test, y_train, y_test = train_test_split(X,y,test_size=0.25, random_state = 42)\n",
    "\n",
    "# First Model with all features\n",
    "\n",
    "model_4 = LinearRegression()\n",
    "model_4.fit(X_train,y_train)\n",
    "\n",
    "print(\"Intercept: \" + str(model_4.intercept_))\n",
    "print()\n",
    "print(\"Accuracy: \"      + str(model_4.score(X_test,y_test)))"
   ]
  },
  {
   "cell_type": "code",
   "execution_count": 120,
   "metadata": {},
   "outputs": [
    {
     "name": "stdout",
     "output_type": "stream",
     "text": [
      "Intercept: 0.7422853290322737\n",
      "\n",
      "Accuracy: 0.8621749505047198\n"
     ]
    }
   ],
   "source": [
    "# Without job stability, minority, ZIP, occupation\n",
    "\n",
    "# Train_test split for test dataset\n",
    "X = df_train.drop([\"default\",\"job_stability\",\"minority\",\"ZIP\",\"occupation\"],axis=1).values\n",
    "y = df_train[\"default\"].values\n",
    "\n",
    "X_train, X_test, y_train, y_test = train_test_split(X,y,test_size=0.25, random_state = 42)\n",
    "\n",
    "# First Model with all features\n",
    "\n",
    "model_6 = LinearRegression()\n",
    "model_6.fit(X_train,y_train)\n",
    "\n",
    "print(\"Intercept: \" + str(model_6.intercept_))\n",
    "print()\n",
    "print(\"Accuracy: \"      + str(model_6.score(X_test,y_test)))\n"
   ]
  },
  {
   "cell_type": "code",
   "execution_count": 132,
   "metadata": {},
   "outputs": [
    {
     "name": "stdout",
     "output_type": "stream",
     "text": [
      "Intercept: 0.7412312052119532\n",
      "\n",
      "Accuracy: 0.8621744743296745\n"
     ]
    }
   ],
   "source": [
    "# Without job stability, minority, ZIP, occupation, income\n",
    "\n",
    "\n",
    "# Train_test split for test dataset\n",
    "X = df_train.drop([\"default\",\"job_stability\",\"minority\",\"occupation\",\"ZIP\",\"income\"],axis=1).values\n",
    "y = df_train[\"default\"].values\n",
    "\n",
    "X_train, X_test, y_train, y_test = train_test_split(X,y,test_size=0.25, random_state = 42)\n",
    "\n",
    "# First Model with all features\n",
    "\n",
    "model_6 = LinearRegression()\n",
    "model_6.fit(X_train,y_train)\n",
    "\n",
    "print(\"Intercept: \" + str(model_6.intercept_))\n",
    "print()\n",
    "print(\"Accuracy: \"      + str(model_6.score(X_test,y_test)))\n"
   ]
  },
  {
   "cell_type": "code",
   "execution_count": null,
   "metadata": {},
   "outputs": [],
   "source": []
  },
  {
   "cell_type": "code",
   "execution_count": null,
   "metadata": {},
   "outputs": [],
   "source": []
  },
  {
   "cell_type": "code",
   "execution_count": null,
   "metadata": {},
   "outputs": [],
   "source": []
  },
  {
   "cell_type": "code",
   "execution_count": null,
   "metadata": {},
   "outputs": [],
   "source": []
  }
 ],
 "metadata": {
  "kernelspec": {
   "display_name": "Python 3",
   "language": "python",
   "name": "python3"
  },
  "language_info": {
   "codemirror_mode": {
    "name": "ipython",
    "version": 3
   },
   "file_extension": ".py",
   "mimetype": "text/x-python",
   "name": "python",
   "nbconvert_exporter": "python",
   "pygments_lexer": "ipython3",
   "version": "3.7.6"
  }
 },
 "nbformat": 4,
 "nbformat_minor": 4
}
