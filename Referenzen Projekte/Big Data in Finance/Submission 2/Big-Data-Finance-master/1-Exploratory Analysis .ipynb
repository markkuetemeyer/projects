{
 "cells": [
  {
   "cell_type": "markdown",
   "metadata": {},
   "source": [
    "# Exploratory Analysis for first Submission"
   ]
  },
  {
   "cell_type": "markdown",
   "metadata": {},
   "source": [
    "This notebook is used to perform the first exploratory analysis of the dataset and prepare the data for the training of our model to detect and correct biases in models"
   ]
  },
  {
   "cell_type": "code",
   "execution_count": 1,
   "metadata": {},
   "outputs": [],
   "source": [
    "#importing packages \n",
    "import pandas as pd\n",
    "import seaborn as sns\n",
    "import matplotlib.pyplot as plt\n",
    "from scipy import stats\n",
    "import numpy as np\n",
    "\n",
    "#setting default precision\n",
    "pd.options.display.float_format = \"{:.2f}\".format\n",
    "sns.set(color_codes=True)\n",
    "%matplotlib inline \n",
    "\n",
    "def print_bold(string):\n",
    "    print('\\033[1m' + string )\n",
    "    print('\\033[0m')"
   ]
  },
  {
   "cell_type": "code",
   "execution_count": 2,
   "metadata": {},
   "outputs": [
    {
     "data": {
      "text/html": [
       "<div>\n",
       "<style scoped>\n",
       "    .dataframe tbody tr th:only-of-type {\n",
       "        vertical-align: middle;\n",
       "    }\n",
       "\n",
       "    .dataframe tbody tr th {\n",
       "        vertical-align: top;\n",
       "    }\n",
       "\n",
       "    .dataframe thead th {\n",
       "        text-align: right;\n",
       "    }\n",
       "</style>\n",
       "<table border=\"1\" class=\"dataframe\">\n",
       "  <thead>\n",
       "    <tr style=\"text-align: right;\">\n",
       "      <th></th>\n",
       "      <th>minority</th>\n",
       "      <th>sex</th>\n",
       "      <th>ZIP</th>\n",
       "      <th>rent</th>\n",
       "      <th>education</th>\n",
       "      <th>age</th>\n",
       "      <th>income</th>\n",
       "      <th>loan_size</th>\n",
       "      <th>payment_timing</th>\n",
       "      <th>year</th>\n",
       "      <th>job_stability</th>\n",
       "      <th>default</th>\n",
       "      <th>occupation</th>\n",
       "    </tr>\n",
       "  </thead>\n",
       "  <tbody>\n",
       "    <tr>\n",
       "      <th>0</th>\n",
       "      <td>1</td>\n",
       "      <td>0</td>\n",
       "      <td>MT04PA</td>\n",
       "      <td>1</td>\n",
       "      <td>57.23</td>\n",
       "      <td>36.05</td>\n",
       "      <td>205168.02</td>\n",
       "      <td>7600.29</td>\n",
       "      <td>3.30</td>\n",
       "      <td>0</td>\n",
       "      <td>3.02</td>\n",
       "      <td>True</td>\n",
       "      <td>MZ10CD</td>\n",
       "    </tr>\n",
       "    <tr>\n",
       "      <th>1</th>\n",
       "      <td>1</td>\n",
       "      <td>0</td>\n",
       "      <td>MT04PA</td>\n",
       "      <td>1</td>\n",
       "      <td>45.89</td>\n",
       "      <td>59.53</td>\n",
       "      <td>187530.41</td>\n",
       "      <td>5534.27</td>\n",
       "      <td>3.84</td>\n",
       "      <td>0</td>\n",
       "      <td>5.94</td>\n",
       "      <td>True</td>\n",
       "      <td>MZ10CD</td>\n",
       "    </tr>\n",
       "    <tr>\n",
       "      <th>2</th>\n",
       "      <td>1</td>\n",
       "      <td>0</td>\n",
       "      <td>MT04PA</td>\n",
       "      <td>1</td>\n",
       "      <td>46.78</td>\n",
       "      <td>67.34</td>\n",
       "      <td>196912.01</td>\n",
       "      <td>2009.90</td>\n",
       "      <td>2.06</td>\n",
       "      <td>0</td>\n",
       "      <td>2.19</td>\n",
       "      <td>True</td>\n",
       "      <td>MZ10CD</td>\n",
       "    </tr>\n",
       "    <tr>\n",
       "      <th>3</th>\n",
       "      <td>1</td>\n",
       "      <td>0</td>\n",
       "      <td>MT04PA</td>\n",
       "      <td>1</td>\n",
       "      <td>41.78</td>\n",
       "      <td>24.07</td>\n",
       "      <td>132911.65</td>\n",
       "      <td>3112.28</td>\n",
       "      <td>3.94</td>\n",
       "      <td>0</td>\n",
       "      <td>1.73</td>\n",
       "      <td>True</td>\n",
       "      <td>MZ10CD</td>\n",
       "    </tr>\n",
       "    <tr>\n",
       "      <th>4</th>\n",
       "      <td>1</td>\n",
       "      <td>0</td>\n",
       "      <td>MT04PA</td>\n",
       "      <td>1</td>\n",
       "      <td>41.74</td>\n",
       "      <td>47.50</td>\n",
       "      <td>161162.55</td>\n",
       "      <td>1372.08</td>\n",
       "      <td>3.71</td>\n",
       "      <td>0</td>\n",
       "      <td>0.88</td>\n",
       "      <td>True</td>\n",
       "      <td>MZ10CD</td>\n",
       "    </tr>\n",
       "  </tbody>\n",
       "</table>\n",
       "</div>"
      ],
      "text/plain": [
       "   minority  sex     ZIP  rent  education   age    income  loan_size  \\\n",
       "0         1    0  MT04PA     1      57.23 36.05 205168.02    7600.29   \n",
       "1         1    0  MT04PA     1      45.89 59.53 187530.41    5534.27   \n",
       "2         1    0  MT04PA     1      46.78 67.34 196912.01    2009.90   \n",
       "3         1    0  MT04PA     1      41.78 24.07 132911.65    3112.28   \n",
       "4         1    0  MT04PA     1      41.74 47.50 161162.55    1372.08   \n",
       "\n",
       "   payment_timing  year  job_stability  default occupation  \n",
       "0            3.30     0           3.02     True     MZ10CD  \n",
       "1            3.84     0           5.94     True     MZ10CD  \n",
       "2            2.06     0           2.19     True     MZ10CD  \n",
       "3            3.94     0           1.73     True     MZ10CD  \n",
       "4            3.71     0           0.88     True     MZ10CD  "
      ]
     },
     "execution_count": 2,
     "metadata": {},
     "output_type": "execute_result"
    }
   ],
   "source": [
    "train_df = \"train.csv\"\n",
    "df_train = pd.read_csv(train_df, index_col = 0)\n",
    "df_train.head()"
   ]
  },
  {
   "cell_type": "code",
   "execution_count": 3,
   "metadata": {},
   "outputs": [
    {
     "data": {
      "text/html": [
       "<div>\n",
       "<style scoped>\n",
       "    .dataframe tbody tr th:only-of-type {\n",
       "        vertical-align: middle;\n",
       "    }\n",
       "\n",
       "    .dataframe tbody tr th {\n",
       "        vertical-align: top;\n",
       "    }\n",
       "\n",
       "    .dataframe thead th {\n",
       "        text-align: right;\n",
       "    }\n",
       "</style>\n",
       "<table border=\"1\" class=\"dataframe\">\n",
       "  <thead>\n",
       "    <tr style=\"text-align: right;\">\n",
       "      <th></th>\n",
       "      <th>minority</th>\n",
       "      <th>sex</th>\n",
       "      <th>ZIP</th>\n",
       "      <th>rent</th>\n",
       "      <th>education</th>\n",
       "      <th>age</th>\n",
       "      <th>income</th>\n",
       "      <th>loan_size</th>\n",
       "      <th>payment_timing</th>\n",
       "      <th>year</th>\n",
       "      <th>job_stability</th>\n",
       "      <th>occupation</th>\n",
       "      <th>default</th>\n",
       "    </tr>\n",
       "  </thead>\n",
       "  <tbody>\n",
       "    <tr>\n",
       "      <th>0</th>\n",
       "      <td>1</td>\n",
       "      <td>0</td>\n",
       "      <td>MT04PA</td>\n",
       "      <td>1</td>\n",
       "      <td>57.23</td>\n",
       "      <td>36.05</td>\n",
       "      <td>205168.02</td>\n",
       "      <td>7600.29</td>\n",
       "      <td>3.30</td>\n",
       "      <td>0</td>\n",
       "      <td>3.02</td>\n",
       "      <td>MZ10CD</td>\n",
       "      <td>True</td>\n",
       "    </tr>\n",
       "    <tr>\n",
       "      <th>1</th>\n",
       "      <td>1</td>\n",
       "      <td>0</td>\n",
       "      <td>MT04PA</td>\n",
       "      <td>1</td>\n",
       "      <td>45.89</td>\n",
       "      <td>59.53</td>\n",
       "      <td>187530.41</td>\n",
       "      <td>5534.27</td>\n",
       "      <td>3.84</td>\n",
       "      <td>0</td>\n",
       "      <td>5.94</td>\n",
       "      <td>MZ10CD</td>\n",
       "      <td>True</td>\n",
       "    </tr>\n",
       "    <tr>\n",
       "      <th>2</th>\n",
       "      <td>1</td>\n",
       "      <td>0</td>\n",
       "      <td>MT04PA</td>\n",
       "      <td>1</td>\n",
       "      <td>46.78</td>\n",
       "      <td>67.34</td>\n",
       "      <td>196912.01</td>\n",
       "      <td>2009.90</td>\n",
       "      <td>2.06</td>\n",
       "      <td>0</td>\n",
       "      <td>2.19</td>\n",
       "      <td>MZ10CD</td>\n",
       "      <td>True</td>\n",
       "    </tr>\n",
       "    <tr>\n",
       "      <th>3</th>\n",
       "      <td>1</td>\n",
       "      <td>0</td>\n",
       "      <td>MT04PA</td>\n",
       "      <td>1</td>\n",
       "      <td>41.78</td>\n",
       "      <td>24.07</td>\n",
       "      <td>132911.65</td>\n",
       "      <td>3112.28</td>\n",
       "      <td>3.94</td>\n",
       "      <td>0</td>\n",
       "      <td>1.73</td>\n",
       "      <td>MZ10CD</td>\n",
       "      <td>True</td>\n",
       "    </tr>\n",
       "    <tr>\n",
       "      <th>4</th>\n",
       "      <td>1</td>\n",
       "      <td>0</td>\n",
       "      <td>MT04PA</td>\n",
       "      <td>1</td>\n",
       "      <td>41.74</td>\n",
       "      <td>47.50</td>\n",
       "      <td>161162.55</td>\n",
       "      <td>1372.08</td>\n",
       "      <td>3.71</td>\n",
       "      <td>0</td>\n",
       "      <td>0.88</td>\n",
       "      <td>MZ10CD</td>\n",
       "      <td>True</td>\n",
       "    </tr>\n",
       "  </tbody>\n",
       "</table>\n",
       "</div>"
      ],
      "text/plain": [
       "   minority  sex     ZIP  rent  education   age    income  loan_size  \\\n",
       "0         1    0  MT04PA     1      57.23 36.05 205168.02    7600.29   \n",
       "1         1    0  MT04PA     1      45.89 59.53 187530.41    5534.27   \n",
       "2         1    0  MT04PA     1      46.78 67.34 196912.01    2009.90   \n",
       "3         1    0  MT04PA     1      41.78 24.07 132911.65    3112.28   \n",
       "4         1    0  MT04PA     1      41.74 47.50 161162.55    1372.08   \n",
       "\n",
       "   payment_timing  year  job_stability occupation  default  \n",
       "0            3.30     0           3.02     MZ10CD     True  \n",
       "1            3.84     0           5.94     MZ10CD     True  \n",
       "2            2.06     0           2.19     MZ10CD     True  \n",
       "3            3.94     0           1.73     MZ10CD     True  \n",
       "4            3.71     0           0.88     MZ10CD     True  "
      ]
     },
     "execution_count": 3,
     "metadata": {},
     "output_type": "execute_result"
    }
   ],
   "source": [
    "# moving target col to end\n",
    "cols = list(df_train.columns.values) #Make a list of all of the columns in the df\n",
    "cols.pop(cols.index('default')) #Remove default from list\n",
    "df_train = df_train[cols+['default']]\n",
    "df_train.head()"
   ]
  },
  {
   "cell_type": "code",
   "execution_count": 4,
   "metadata": {},
   "outputs": [],
   "source": [
    "# turn zip and occupation to categorical variables\n",
    "df_train['ZIP'] = pd.Categorical(df_train.ZIP)\n",
    "df_train['occupation'] = pd.Categorical(df_train.occupation)\n",
    "df_train[\"default\"] = df_train[\"default\"].astype(int)"
   ]
  },
  {
   "cell_type": "code",
   "execution_count": 5,
   "metadata": {},
   "outputs": [
    {
     "data": {
      "text/plain": [
       "MZ01CD    240167\n",
       "MZ10CD    119944\n",
       "MZ11CD    119889\n",
       "Name: occupation, dtype: int64"
      ]
     },
     "execution_count": 5,
     "metadata": {},
     "output_type": "execute_result"
    }
   ],
   "source": [
    "df_train['occupation'].value_counts()"
   ]
  },
  {
   "cell_type": "code",
   "execution_count": 6,
   "metadata": {},
   "outputs": [
    {
     "data": {
      "text/plain": [
       "MT15PA    120000\n",
       "MT12RA    120000\n",
       "MT04PA    120000\n",
       "MT01RA    120000\n",
       "Name: ZIP, dtype: int64"
      ]
     },
     "execution_count": 6,
     "metadata": {},
     "output_type": "execute_result"
    }
   ],
   "source": [
    "df_train['ZIP'].value_counts()"
   ]
  },
  {
   "cell_type": "code",
   "execution_count": 8,
   "metadata": {},
   "outputs": [
    {
     "data": {
      "text/plain": [
       "(480000, 13)"
      ]
     },
     "execution_count": 8,
     "metadata": {},
     "output_type": "execute_result"
    }
   ],
   "source": [
    "#checking shape of df\n",
    "df_train.shape"
   ]
  },
  {
   "cell_type": "code",
   "execution_count": 9,
   "metadata": {},
   "outputs": [
    {
     "name": "stdout",
     "output_type": "stream",
     "text": [
      "<class 'pandas.core.frame.DataFrame'>\n",
      "Int64Index: 480000 entries, 0 to 7999\n",
      "Data columns (total 13 columns):\n",
      " #   Column          Non-Null Count   Dtype   \n",
      "---  ------          --------------   -----   \n",
      " 0   minority        480000 non-null  int64   \n",
      " 1   sex             480000 non-null  int64   \n",
      " 2   ZIP             480000 non-null  category\n",
      " 3   rent            480000 non-null  int64   \n",
      " 4   education       480000 non-null  float64 \n",
      " 5   age             480000 non-null  float64 \n",
      " 6   income          480000 non-null  float64 \n",
      " 7   loan_size       480000 non-null  float64 \n",
      " 8   payment_timing  480000 non-null  float64 \n",
      " 9   year            480000 non-null  int64   \n",
      " 10  job_stability   480000 non-null  float64 \n",
      " 11  occupation      480000 non-null  category\n",
      " 12  default         480000 non-null  int64   \n",
      "dtypes: category(2), float64(6), int64(5)\n",
      "memory usage: 44.9 MB\n"
     ]
    }
   ],
   "source": [
    "#checking for null values --> none in columns\n",
    "df_train.info()"
   ]
  },
  {
   "cell_type": "code",
   "execution_count": 10,
   "metadata": {},
   "outputs": [
    {
     "data": {
      "text/plain": [
       "False"
      ]
     },
     "execution_count": 10,
     "metadata": {},
     "output_type": "execute_result"
    }
   ],
   "source": [
    "#double check for na values\n",
    "df_train.isnull().values.any()"
   ]
  },
  {
   "cell_type": "code",
   "execution_count": 11,
   "metadata": {},
   "outputs": [
    {
     "data": {
      "text/html": [
       "<div>\n",
       "<style scoped>\n",
       "    .dataframe tbody tr th:only-of-type {\n",
       "        vertical-align: middle;\n",
       "    }\n",
       "\n",
       "    .dataframe tbody tr th {\n",
       "        vertical-align: top;\n",
       "    }\n",
       "\n",
       "    .dataframe thead th {\n",
       "        text-align: right;\n",
       "    }\n",
       "</style>\n",
       "<table border=\"1\" class=\"dataframe\">\n",
       "  <thead>\n",
       "    <tr style=\"text-align: right;\">\n",
       "      <th></th>\n",
       "      <th>minority</th>\n",
       "      <th>sex</th>\n",
       "      <th>rent</th>\n",
       "      <th>education</th>\n",
       "      <th>age</th>\n",
       "      <th>income</th>\n",
       "      <th>loan_size</th>\n",
       "      <th>payment_timing</th>\n",
       "      <th>year</th>\n",
       "      <th>job_stability</th>\n",
       "      <th>default</th>\n",
       "    </tr>\n",
       "  </thead>\n",
       "  <tbody>\n",
       "    <tr>\n",
       "      <th>count</th>\n",
       "      <td>480000.00</td>\n",
       "      <td>480000.00</td>\n",
       "      <td>480000.00</td>\n",
       "      <td>480000.00</td>\n",
       "      <td>480000.00</td>\n",
       "      <td>480000.00</td>\n",
       "      <td>480000.00</td>\n",
       "      <td>480000.00</td>\n",
       "      <td>480000.00</td>\n",
       "      <td>480000.00</td>\n",
       "      <td>480000.00</td>\n",
       "    </tr>\n",
       "    <tr>\n",
       "      <th>mean</th>\n",
       "      <td>0.50</td>\n",
       "      <td>0.50</td>\n",
       "      <td>0.47</td>\n",
       "      <td>26.02</td>\n",
       "      <td>42.99</td>\n",
       "      <td>96223.63</td>\n",
       "      <td>5005.00</td>\n",
       "      <td>3.00</td>\n",
       "      <td>14.50</td>\n",
       "      <td>45.99</td>\n",
       "      <td>0.50</td>\n",
       "    </tr>\n",
       "    <tr>\n",
       "      <th>std</th>\n",
       "      <td>0.50</td>\n",
       "      <td>0.50</td>\n",
       "      <td>0.50</td>\n",
       "      <td>24.55</td>\n",
       "      <td>14.43</td>\n",
       "      <td>91722.30</td>\n",
       "      <td>2887.15</td>\n",
       "      <td>1.00</td>\n",
       "      <td>8.66</td>\n",
       "      <td>45.07</td>\n",
       "      <td>0.50</td>\n",
       "    </tr>\n",
       "    <tr>\n",
       "      <th>min</th>\n",
       "      <td>0.00</td>\n",
       "      <td>0.00</td>\n",
       "      <td>0.00</td>\n",
       "      <td>0.00</td>\n",
       "      <td>18.00</td>\n",
       "      <td>7.31</td>\n",
       "      <td>0.04</td>\n",
       "      <td>-12.46</td>\n",
       "      <td>0.00</td>\n",
       "      <td>0.01</td>\n",
       "      <td>0.00</td>\n",
       "    </tr>\n",
       "    <tr>\n",
       "      <th>25%</th>\n",
       "      <td>0.00</td>\n",
       "      <td>0.00</td>\n",
       "      <td>0.00</td>\n",
       "      <td>1.68</td>\n",
       "      <td>30.47</td>\n",
       "      <td>6181.59</td>\n",
       "      <td>2503.58</td>\n",
       "      <td>2.62</td>\n",
       "      <td>7.00</td>\n",
       "      <td>1.67</td>\n",
       "      <td>0.00</td>\n",
       "    </tr>\n",
       "    <tr>\n",
       "      <th>50%</th>\n",
       "      <td>0.00</td>\n",
       "      <td>0.50</td>\n",
       "      <td>0.00</td>\n",
       "      <td>20.28</td>\n",
       "      <td>43.00</td>\n",
       "      <td>70380.19</td>\n",
       "      <td>5008.80</td>\n",
       "      <td>3.31</td>\n",
       "      <td>14.50</td>\n",
       "      <td>31.24</td>\n",
       "      <td>0.00</td>\n",
       "    </tr>\n",
       "    <tr>\n",
       "      <th>75%</th>\n",
       "      <td>1.00</td>\n",
       "      <td>1.00</td>\n",
       "      <td>1.00</td>\n",
       "      <td>49.71</td>\n",
       "      <td>55.47</td>\n",
       "      <td>183477.24</td>\n",
       "      <td>7503.32</td>\n",
       "      <td>3.71</td>\n",
       "      <td>22.00</td>\n",
       "      <td>89.45</td>\n",
       "      <td>1.00</td>\n",
       "    </tr>\n",
       "    <tr>\n",
       "      <th>max</th>\n",
       "      <td>1.00</td>\n",
       "      <td>1.00</td>\n",
       "      <td>1.00</td>\n",
       "      <td>89.31</td>\n",
       "      <td>68.00</td>\n",
       "      <td>350173.90</td>\n",
       "      <td>9999.99</td>\n",
       "      <td>4.00</td>\n",
       "      <td>29.00</td>\n",
       "      <td>149.91</td>\n",
       "      <td>1.00</td>\n",
       "    </tr>\n",
       "  </tbody>\n",
       "</table>\n",
       "</div>"
      ],
      "text/plain": [
       "       minority       sex      rent  education       age    income  loan_size  \\\n",
       "count 480000.00 480000.00 480000.00  480000.00 480000.00 480000.00  480000.00   \n",
       "mean       0.50      0.50      0.47      26.02     42.99  96223.63    5005.00   \n",
       "std        0.50      0.50      0.50      24.55     14.43  91722.30    2887.15   \n",
       "min        0.00      0.00      0.00       0.00     18.00      7.31       0.04   \n",
       "25%        0.00      0.00      0.00       1.68     30.47   6181.59    2503.58   \n",
       "50%        0.00      0.50      0.00      20.28     43.00  70380.19    5008.80   \n",
       "75%        1.00      1.00      1.00      49.71     55.47 183477.24    7503.32   \n",
       "max        1.00      1.00      1.00      89.31     68.00 350173.90    9999.99   \n",
       "\n",
       "       payment_timing      year  job_stability   default  \n",
       "count       480000.00 480000.00      480000.00 480000.00  \n",
       "mean             3.00     14.50          45.99      0.50  \n",
       "std              1.00      8.66          45.07      0.50  \n",
       "min            -12.46      0.00           0.01      0.00  \n",
       "25%              2.62      7.00           1.67      0.00  \n",
       "50%              3.31     14.50          31.24      0.00  \n",
       "75%              3.71     22.00          89.45      1.00  \n",
       "max              4.00     29.00         149.91      1.00  "
      ]
     },
     "execution_count": 11,
     "metadata": {},
     "output_type": "execute_result"
    }
   ],
   "source": [
    "# we see that minority and sex are evenly represented in the dataset\n",
    "df_train.describe()"
   ]
  },
  {
   "cell_type": "markdown",
   "metadata": {},
   "source": [
    "## Detecting outliers "
   ]
  },
  {
   "cell_type": "markdown",
   "metadata": {},
   "source": [
    "We are removing the outliers from the payment timing column and dropping the rows where we are more than 3 STDs of the mean."
   ]
  },
  {
   "cell_type": "code",
   "execution_count": 12,
   "metadata": {},
   "outputs": [
    {
     "data": {
      "text/plain": [
       "minority             0\n",
       "sex                  0\n",
       "rent                 0\n",
       "education            0\n",
       "age                  0\n",
       "income               0\n",
       "loan_size            0\n",
       "payment_timing    8864\n",
       "year                 0\n",
       "job_stability        0\n",
       "default              0\n",
       "dtype: int64"
      ]
     },
     "execution_count": 12,
     "metadata": {},
     "output_type": "execute_result"
    }
   ],
   "source": [
    "# using z score as signed number of standard deviations by which the value is above mean value\n",
    "numeric_cols = df_train.select_dtypes(include=[np.number]).columns\n",
    "z_values = abs(df_train[numeric_cols].apply(stats.zscore))\n",
    "z_values[z_values > 3.0].count()"
   ]
  },
  {
   "cell_type": "code",
   "execution_count": 13,
   "metadata": {},
   "outputs": [],
   "source": [
    "df_train['outliers']=z_values.max(axis=1)"
   ]
  },
  {
   "cell_type": "code",
   "execution_count": 14,
   "metadata": {},
   "outputs": [],
   "source": [
    "df_train = df_train[df_train['outliers'] < 3]  "
   ]
  },
  {
   "cell_type": "code",
   "execution_count": 15,
   "metadata": {},
   "outputs": [
    {
     "data": {
      "text/plain": [
       "(471136, 13)"
      ]
     },
     "execution_count": 15,
     "metadata": {},
     "output_type": "execute_result"
    }
   ],
   "source": [
    "#shape after 8k outliers have been revmoved\n",
    "df_train.drop('outliers', axis = 1,inplace = True)\n",
    "df_train.shape"
   ]
  },
  {
   "cell_type": "markdown",
   "metadata": {},
   "source": [
    "## checking number of defaults"
   ]
  },
  {
   "cell_type": "markdown",
   "metadata": {},
   "source": [
    "We do not have an unbalanced dataset problem as the default ratio is roughly 50%"
   ]
  },
  {
   "cell_type": "code",
   "execution_count": 16,
   "metadata": {},
   "outputs": [
    {
     "data": {
      "text/plain": [
       "0    235641\n",
       "1    235495\n",
       "Name: default, dtype: int64"
      ]
     },
     "execution_count": 16,
     "metadata": {},
     "output_type": "execute_result"
    }
   ],
   "source": [
    "df_train['default'].value_counts()"
   ]
  },
  {
   "cell_type": "code",
   "execution_count": null,
   "metadata": {},
   "outputs": [],
   "source": []
  },
  {
   "cell_type": "markdown",
   "metadata": {},
   "source": [
    "## checking for uneven distribution"
   ]
  },
  {
   "cell_type": "markdown",
   "metadata": {},
   "source": [
    "### Gender"
   ]
  },
  {
   "cell_type": "code",
   "execution_count": 17,
   "metadata": {},
   "outputs": [
    {
     "data": {
      "text/plain": [
       "<matplotlib.axes._subplots.AxesSubplot at 0x1a23b6b650>"
      ]
     },
     "execution_count": 17,
     "metadata": {},
     "output_type": "execute_result"
    },
    {
     "data": {
      "image/png": "[encoded data removed]",
      "text/plain": [
       "<Figure size 432x288 with 1 Axes>"
      ]
     },
     "metadata": {
      "needs_background": "light"
     },
     "output_type": "display_data"
    }
   ],
   "source": [
    "#looking at target by gender\n",
    "ax = sns.countplot(x=\"sex\", hue= \"default\", data= df_train)\n",
    "ax.set_title(\"Default by sex\")\n",
    "ax"
   ]
  },
  {
   "cell_type": "code",
   "execution_count": 18,
   "metadata": {},
   "outputs": [
    {
     "data": {
      "text/plain": [
       "sex  default\n",
       "0    0          117795\n",
       "     1          117801\n",
       "1    0          117846\n",
       "     1          117694\n",
       "Name: sex, dtype: int64"
      ]
     },
     "execution_count": 18,
     "metadata": {},
     "output_type": "execute_result"
    }
   ],
   "source": [
    "min_distr = df_train.groupby([\"sex\", \"default\"])[\"sex\"].count()\n",
    "min_distr"
   ]
  },
  {
   "cell_type": "markdown",
   "metadata": {},
   "source": [
    "Even distribution of gender in dataset "
   ]
  },
  {
   "cell_type": "markdown",
   "metadata": {},
   "source": [
    "### Minorities"
   ]
  },
  {
   "cell_type": "markdown",
   "metadata": {},
   "source": [
    "We observe a clearly uneven distribution in the defaults among minorities"
   ]
  },
  {
   "cell_type": "code",
   "execution_count": 19,
   "metadata": {},
   "outputs": [
    {
     "data": {
      "text/plain": [
       "<matplotlib.axes._subplots.AxesSubplot at 0x10ffd5350>"
      ]
     },
     "execution_count": 19,
     "metadata": {},
     "output_type": "execute_result"
    },
    {
     "data": {
      "image/png": "[encoded data removed]",
      "text/plain": [
       "<Figure size 432x288 with 1 Axes>"
      ]
     },
     "metadata": {
      "needs_background": "light"
     },
     "output_type": "display_data"
    }
   ],
   "source": [
    "#looking at target by minority\n",
    "ax = sns.countplot(x=\"minority\", hue= \"default\", data= df_train)\n",
    "ax.set_title(\"Default by minority\")\n",
    "ax"
   ]
  },
  {
   "cell_type": "markdown",
   "metadata": {},
   "source": [
    "Almost all defaults are from minority clients"
   ]
  },
  {
   "cell_type": "code",
   "execution_count": 20,
   "metadata": {},
   "outputs": [
    {
     "data": {
      "text/plain": [
       "minority  default\n",
       "0         0          235391\n",
       "          1             341\n",
       "1         0             250\n",
       "          1          235154\n",
       "Name: minority, dtype: int64"
      ]
     },
     "execution_count": 20,
     "metadata": {},
     "output_type": "execute_result"
    }
   ],
   "source": [
    "min_distr = df_train.groupby([\"minority\", \"default\"])[\"minority\"].count()\n",
    "min_distr"
   ]
  },
  {
   "cell_type": "code",
   "execution_count": 21,
   "metadata": {},
   "outputs": [
    {
     "data": {
      "text/plain": [
       "default\n",
       "0    235391\n",
       "1       341\n",
       "Name: minority, dtype: int64"
      ]
     },
     "execution_count": 21,
     "metadata": {},
     "output_type": "execute_result"
    }
   ],
   "source": [
    "min_distr[0]"
   ]
  },
  {
   "cell_type": "markdown",
   "metadata": {},
   "source": [
    "## Correlation between features"
   ]
  },
  {
   "cell_type": "markdown",
   "metadata": {},
   "source": [
    "Observations:\n",
    "    1. Minority perfecty correlated with defaulting\n",
    "    2. Rent closely correlated with defaulting\n",
    "    2. Job security negatively correlated with defaulting\n",
    "    3. Income and education closely correlated\n",
    "    4. Gender negatively correlated with income and education\n",
    "    5. Minority negatively correlated with job security"
   ]
  },
  {
   "cell_type": "code",
   "execution_count": 22,
   "metadata": {
    "scrolled": false
   },
   "outputs": [
    {
     "data": {
      "text/plain": [
       "<matplotlib.axes._subplots.AxesSubplot at 0x10f0f8190>"
      ]
     },
     "execution_count": 22,
     "metadata": {},
     "output_type": "execute_result"
    },
    {
     "data": {
      "image/png": "[encoded data removed]",
      "text/plain": [
       "<Figure size 2880x1440 with 2 Axes>"
      ]
     },
     "metadata": {
      "needs_background": "light"
     },
     "output_type": "display_data"
    }
   ],
   "source": [
    "plt.figure(figsize=(40,20))\n",
    "c= df_train.corr()\n",
    "sns.set(font_scale= 2)\n",
    "sns.heatmap(c,cmap=\"BrBG\",annot=True)"
   ]
  },
  {
   "cell_type": "markdown",
   "metadata": {},
   "source": [
    "## Feature importance"
   ]
  },
  {
   "cell_type": "markdown",
   "metadata": {},
   "source": [
    "Using three different approaches (univariate chi, recursive elimination and tree based) to identify the most relevant features. Alternatively, we could also apply the PCA method, however, as we want to maintain explainability, we refrain from using it in this case.\n",
    "\n",
    "The most important feature in each one of the methods is minority. Other important ones are rent, job stability and ZIP codes"
   ]
  },
  {
   "cell_type": "code",
   "execution_count": 23,
   "metadata": {},
   "outputs": [],
   "source": [
    "from sklearn.preprocessing import LabelEncoder, OneHotEncoder\n",
    "def get_dummies(df, column_name):\n",
    "    print(df[column_name].unique())\n",
    "    gen_features = pd.get_dummies(df[column_name],prefix = column_name, prefix_sep= '_',drop_first = True)\n",
    "    df = pd.concat([df,gen_features], axis=1)\n",
    "    df = df.drop([column_name], axis=1)\n",
    "    return df"
   ]
  },
  {
   "cell_type": "code",
   "execution_count": 24,
   "metadata": {},
   "outputs": [
    {
     "name": "stdout",
     "output_type": "stream",
     "text": [
      "[MT04PA, MT15PA, MT01RA, MT12RA]\n",
      "Categories (4, object): [MT04PA, MT15PA, MT01RA, MT12RA]\n",
      "[MZ10CD, MZ11CD, MZ01CD]\n",
      "Categories (3, object): [MZ10CD, MZ11CD, MZ01CD]\n"
     ]
    },
    {
     "data": {
      "text/html": [
       "<div>\n",
       "<style scoped>\n",
       "    .dataframe tbody tr th:only-of-type {\n",
       "        vertical-align: middle;\n",
       "    }\n",
       "\n",
       "    .dataframe tbody tr th {\n",
       "        vertical-align: top;\n",
       "    }\n",
       "\n",
       "    .dataframe thead th {\n",
       "        text-align: right;\n",
       "    }\n",
       "</style>\n",
       "<table border=\"1\" class=\"dataframe\">\n",
       "  <thead>\n",
       "    <tr style=\"text-align: right;\">\n",
       "      <th></th>\n",
       "      <th>minority</th>\n",
       "      <th>sex</th>\n",
       "      <th>rent</th>\n",
       "      <th>education</th>\n",
       "      <th>age</th>\n",
       "      <th>income</th>\n",
       "      <th>loan_size</th>\n",
       "      <th>payment_timing</th>\n",
       "      <th>year</th>\n",
       "      <th>job_stability</th>\n",
       "      <th>default</th>\n",
       "      <th>ZIP_MT04PA</th>\n",
       "      <th>ZIP_MT12RA</th>\n",
       "      <th>ZIP_MT15PA</th>\n",
       "      <th>occupation_MZ10CD</th>\n",
       "      <th>occupation_MZ11CD</th>\n",
       "    </tr>\n",
       "  </thead>\n",
       "  <tbody>\n",
       "    <tr>\n",
       "      <th>0</th>\n",
       "      <td>1</td>\n",
       "      <td>0</td>\n",
       "      <td>1</td>\n",
       "      <td>57.23</td>\n",
       "      <td>36.05</td>\n",
       "      <td>205168.02</td>\n",
       "      <td>7600.29</td>\n",
       "      <td>3.30</td>\n",
       "      <td>0</td>\n",
       "      <td>3.02</td>\n",
       "      <td>1</td>\n",
       "      <td>1</td>\n",
       "      <td>0</td>\n",
       "      <td>0</td>\n",
       "      <td>1</td>\n",
       "      <td>0</td>\n",
       "    </tr>\n",
       "    <tr>\n",
       "      <th>1</th>\n",
       "      <td>1</td>\n",
       "      <td>0</td>\n",
       "      <td>1</td>\n",
       "      <td>45.89</td>\n",
       "      <td>59.53</td>\n",
       "      <td>187530.41</td>\n",
       "      <td>5534.27</td>\n",
       "      <td>3.84</td>\n",
       "      <td>0</td>\n",
       "      <td>5.94</td>\n",
       "      <td>1</td>\n",
       "      <td>1</td>\n",
       "      <td>0</td>\n",
       "      <td>0</td>\n",
       "      <td>1</td>\n",
       "      <td>0</td>\n",
       "    </tr>\n",
       "    <tr>\n",
       "      <th>2</th>\n",
       "      <td>1</td>\n",
       "      <td>0</td>\n",
       "      <td>1</td>\n",
       "      <td>46.78</td>\n",
       "      <td>67.34</td>\n",
       "      <td>196912.01</td>\n",
       "      <td>2009.90</td>\n",
       "      <td>2.06</td>\n",
       "      <td>0</td>\n",
       "      <td>2.19</td>\n",
       "      <td>1</td>\n",
       "      <td>1</td>\n",
       "      <td>0</td>\n",
       "      <td>0</td>\n",
       "      <td>1</td>\n",
       "      <td>0</td>\n",
       "    </tr>\n",
       "    <tr>\n",
       "      <th>3</th>\n",
       "      <td>1</td>\n",
       "      <td>0</td>\n",
       "      <td>1</td>\n",
       "      <td>41.78</td>\n",
       "      <td>24.07</td>\n",
       "      <td>132911.65</td>\n",
       "      <td>3112.28</td>\n",
       "      <td>3.94</td>\n",
       "      <td>0</td>\n",
       "      <td>1.73</td>\n",
       "      <td>1</td>\n",
       "      <td>1</td>\n",
       "      <td>0</td>\n",
       "      <td>0</td>\n",
       "      <td>1</td>\n",
       "      <td>0</td>\n",
       "    </tr>\n",
       "    <tr>\n",
       "      <th>4</th>\n",
       "      <td>1</td>\n",
       "      <td>0</td>\n",
       "      <td>1</td>\n",
       "      <td>41.74</td>\n",
       "      <td>47.50</td>\n",
       "      <td>161162.55</td>\n",
       "      <td>1372.08</td>\n",
       "      <td>3.71</td>\n",
       "      <td>0</td>\n",
       "      <td>0.88</td>\n",
       "      <td>1</td>\n",
       "      <td>1</td>\n",
       "      <td>0</td>\n",
       "      <td>0</td>\n",
       "      <td>1</td>\n",
       "      <td>0</td>\n",
       "    </tr>\n",
       "  </tbody>\n",
       "</table>\n",
       "</div>"
      ],
      "text/plain": [
       "   minority  sex  rent  education   age    income  loan_size  payment_timing  \\\n",
       "0         1    0     1      57.23 36.05 205168.02    7600.29            3.30   \n",
       "1         1    0     1      45.89 59.53 187530.41    5534.27            3.84   \n",
       "2         1    0     1      46.78 67.34 196912.01    2009.90            2.06   \n",
       "3         1    0     1      41.78 24.07 132911.65    3112.28            3.94   \n",
       "4         1    0     1      41.74 47.50 161162.55    1372.08            3.71   \n",
       "\n",
       "   year  job_stability  default  ZIP_MT04PA  ZIP_MT12RA  ZIP_MT15PA  \\\n",
       "0     0           3.02        1           1           0           0   \n",
       "1     0           5.94        1           1           0           0   \n",
       "2     0           2.19        1           1           0           0   \n",
       "3     0           1.73        1           1           0           0   \n",
       "4     0           0.88        1           1           0           0   \n",
       "\n",
       "   occupation_MZ10CD  occupation_MZ11CD  \n",
       "0                  1                  0  \n",
       "1                  1                  0  \n",
       "2                  1                  0  \n",
       "3                  1                  0  \n",
       "4                  1                  0  "
      ]
     },
     "execution_count": 24,
     "metadata": {},
     "output_type": "execute_result"
    }
   ],
   "source": [
    "df_train = get_dummies(df_train, 'ZIP')\n",
    "df_train = get_dummies(df_train, 'occupation')\n",
    "df_train.head()"
   ]
  },
  {
   "cell_type": "code",
   "execution_count": 25,
   "metadata": {},
   "outputs": [
    {
     "data": {
      "text/html": [
       "<div>\n",
       "<style scoped>\n",
       "    .dataframe tbody tr th:only-of-type {\n",
       "        vertical-align: middle;\n",
       "    }\n",
       "\n",
       "    .dataframe tbody tr th {\n",
       "        vertical-align: top;\n",
       "    }\n",
       "\n",
       "    .dataframe thead th {\n",
       "        text-align: right;\n",
       "    }\n",
       "</style>\n",
       "<table border=\"1\" class=\"dataframe\">\n",
       "  <thead>\n",
       "    <tr style=\"text-align: right;\">\n",
       "      <th></th>\n",
       "      <th>minority</th>\n",
       "      <th>sex</th>\n",
       "      <th>rent</th>\n",
       "      <th>education</th>\n",
       "      <th>age</th>\n",
       "      <th>income</th>\n",
       "      <th>loan_size</th>\n",
       "      <th>payment_timing</th>\n",
       "      <th>year</th>\n",
       "      <th>job_stability</th>\n",
       "      <th>ZIP_MT04PA</th>\n",
       "      <th>ZIP_MT12RA</th>\n",
       "      <th>ZIP_MT15PA</th>\n",
       "      <th>occupation_MZ10CD</th>\n",
       "      <th>occupation_MZ11CD</th>\n",
       "      <th>default</th>\n",
       "    </tr>\n",
       "  </thead>\n",
       "  <tbody>\n",
       "    <tr>\n",
       "      <th>0</th>\n",
       "      <td>1</td>\n",
       "      <td>0</td>\n",
       "      <td>1</td>\n",
       "      <td>57.23</td>\n",
       "      <td>36.05</td>\n",
       "      <td>205168.02</td>\n",
       "      <td>7600.29</td>\n",
       "      <td>3.30</td>\n",
       "      <td>0</td>\n",
       "      <td>3.02</td>\n",
       "      <td>1</td>\n",
       "      <td>0</td>\n",
       "      <td>0</td>\n",
       "      <td>1</td>\n",
       "      <td>0</td>\n",
       "      <td>1</td>\n",
       "    </tr>\n",
       "    <tr>\n",
       "      <th>1</th>\n",
       "      <td>1</td>\n",
       "      <td>0</td>\n",
       "      <td>1</td>\n",
       "      <td>45.89</td>\n",
       "      <td>59.53</td>\n",
       "      <td>187530.41</td>\n",
       "      <td>5534.27</td>\n",
       "      <td>3.84</td>\n",
       "      <td>0</td>\n",
       "      <td>5.94</td>\n",
       "      <td>1</td>\n",
       "      <td>0</td>\n",
       "      <td>0</td>\n",
       "      <td>1</td>\n",
       "      <td>0</td>\n",
       "      <td>1</td>\n",
       "    </tr>\n",
       "    <tr>\n",
       "      <th>2</th>\n",
       "      <td>1</td>\n",
       "      <td>0</td>\n",
       "      <td>1</td>\n",
       "      <td>46.78</td>\n",
       "      <td>67.34</td>\n",
       "      <td>196912.01</td>\n",
       "      <td>2009.90</td>\n",
       "      <td>2.06</td>\n",
       "      <td>0</td>\n",
       "      <td>2.19</td>\n",
       "      <td>1</td>\n",
       "      <td>0</td>\n",
       "      <td>0</td>\n",
       "      <td>1</td>\n",
       "      <td>0</td>\n",
       "      <td>1</td>\n",
       "    </tr>\n",
       "    <tr>\n",
       "      <th>3</th>\n",
       "      <td>1</td>\n",
       "      <td>0</td>\n",
       "      <td>1</td>\n",
       "      <td>41.78</td>\n",
       "      <td>24.07</td>\n",
       "      <td>132911.65</td>\n",
       "      <td>3112.28</td>\n",
       "      <td>3.94</td>\n",
       "      <td>0</td>\n",
       "      <td>1.73</td>\n",
       "      <td>1</td>\n",
       "      <td>0</td>\n",
       "      <td>0</td>\n",
       "      <td>1</td>\n",
       "      <td>0</td>\n",
       "      <td>1</td>\n",
       "    </tr>\n",
       "    <tr>\n",
       "      <th>4</th>\n",
       "      <td>1</td>\n",
       "      <td>0</td>\n",
       "      <td>1</td>\n",
       "      <td>41.74</td>\n",
       "      <td>47.50</td>\n",
       "      <td>161162.55</td>\n",
       "      <td>1372.08</td>\n",
       "      <td>3.71</td>\n",
       "      <td>0</td>\n",
       "      <td>0.88</td>\n",
       "      <td>1</td>\n",
       "      <td>0</td>\n",
       "      <td>0</td>\n",
       "      <td>1</td>\n",
       "      <td>0</td>\n",
       "      <td>1</td>\n",
       "    </tr>\n",
       "  </tbody>\n",
       "</table>\n",
       "</div>"
      ],
      "text/plain": [
       "   minority  sex  rent  education   age    income  loan_size  payment_timing  \\\n",
       "0         1    0     1      57.23 36.05 205168.02    7600.29            3.30   \n",
       "1         1    0     1      45.89 59.53 187530.41    5534.27            3.84   \n",
       "2         1    0     1      46.78 67.34 196912.01    2009.90            2.06   \n",
       "3         1    0     1      41.78 24.07 132911.65    3112.28            3.94   \n",
       "4         1    0     1      41.74 47.50 161162.55    1372.08            3.71   \n",
       "\n",
       "   year  job_stability  ZIP_MT04PA  ZIP_MT12RA  ZIP_MT15PA  occupation_MZ10CD  \\\n",
       "0     0           3.02           1           0           0                  1   \n",
       "1     0           5.94           1           0           0                  1   \n",
       "2     0           2.19           1           0           0                  1   \n",
       "3     0           1.73           1           0           0                  1   \n",
       "4     0           0.88           1           0           0                  1   \n",
       "\n",
       "   occupation_MZ11CD  default  \n",
       "0                  0        1  \n",
       "1                  0        1  \n",
       "2                  0        1  \n",
       "3                  0        1  \n",
       "4                  0        1  "
      ]
     },
     "execution_count": 25,
     "metadata": {},
     "output_type": "execute_result"
    }
   ],
   "source": [
    "# moving target col to end\n",
    "cols = list(df_train.columns.values) #Make a list of all of the columns in the df\n",
    "cols.pop(cols.index('default')) #Remove default from list\n",
    "df_train = df_train[cols+['default']]\n",
    "df_train.head()"
   ]
  },
  {
   "cell_type": "code",
   "execution_count": 26,
   "metadata": {},
   "outputs": [
    {
     "data": {
      "text/plain": [
       "16"
      ]
     },
     "execution_count": 26,
     "metadata": {},
     "output_type": "execute_result"
    }
   ],
   "source": [
    "#determine number of columns\n",
    "len(list(df_train.columns))"
   ]
  },
  {
   "cell_type": "code",
   "execution_count": 27,
   "metadata": {},
   "outputs": [],
   "source": [
    "#creating matrices\n",
    "df_train_values = df_train.values\n",
    "X = df_train_values[:,0:15]\n",
    "Y = df_train_values[:,15]"
   ]
  },
  {
   "cell_type": "code",
   "execution_count": 28,
   "metadata": {},
   "outputs": [],
   "source": [
    "#rescaling data for feature importance assessment\n",
    "from sklearn.preprocessing import MinMaxScaler\n",
    "\n",
    "def rescale(X):\n",
    "    scaler=MinMaxScaler(feature_range=(0,1))\n",
    "    rescaledX=scaler.fit_transform(X)\n",
    "    return rescaledX\n",
    "\n",
    "rescaledX = rescale(X)"
   ]
  },
  {
   "cell_type": "code",
   "execution_count": 29,
   "metadata": {},
   "outputs": [
    {
     "name": "stdout",
     "output_type": "stream",
     "text": [
      "\u001b[1mUnivariate Scores\n",
      "\u001b[0m\n",
      "The 5 attributes with highest scores are: \n",
      "['1: minority']\n",
      "['2: rent']\n",
      "['3: job_stability']\n",
      "['4: ZIP_MT15PA']\n",
      "['5: ZIP_MT12RA']\n",
      "------------\n"
     ]
    }
   ],
   "source": [
    "# determining importance of features with univariate selection\n",
    "from sklearn.feature_selection import SelectKBest\n",
    "from sklearn.feature_selection import chi2 \n",
    "\n",
    "def univariate_chi(x,y,df,target_var, k=5):\n",
    "    test = SelectKBest(score_func=chi2,k=k)\n",
    "    fit = test.fit(x,y)\n",
    "    print_bold('Univariate Scores')\n",
    "    score = list(fit.scores_)\n",
    "    columns = (list(df.columns.values))\n",
    "    columns.remove(target_var)\n",
    "    results = pd.DataFrame(columns=columns)\n",
    "    results.loc[''] = score\n",
    "    print(f'The {k} attributes with highest scores are: ')\n",
    "    count = 1\n",
    "    while count <= k:\n",
    "        max_value = results.idxmax(axis=1)\n",
    "        print(f'{count}: ' + max_value.values)\n",
    "        results = results.drop(columns = max_value.values)\n",
    "        count += 1\n",
    "    print('------------')\n",
    "univariate_chi(rescaledX,Y,df_train,'default')"
   ]
  },
  {
   "cell_type": "code",
   "execution_count": 30,
   "metadata": {},
   "outputs": [
    {
     "name": "stdout",
     "output_type": "stream",
     "text": [
      "\u001b[1mRecursive Scores\n",
      "\u001b[0m\n",
      "The 5 attributes with highest scores are: \n",
      "['1: minority']\n",
      "['2: job_stability']\n",
      "['3: ZIP_MT04PA']\n",
      "['4: ZIP_MT15PA']\n",
      "['5: occupation_MZ10CD']\n",
      "------------\n"
     ]
    }
   ],
   "source": [
    "# determining importance of features with recursive elimination\n",
    "def recursive_elimination(x,y,df,target_var, k=5):\n",
    "    from sklearn.feature_selection import RFE\n",
    "    from sklearn.linear_model import LogisticRegression\n",
    "    model = LogisticRegression(solver='liblinear')\n",
    "    \n",
    "    rfe = RFE(model,k)\n",
    "    fit = rfe.fit(x,y)\n",
    "    print_bold(f'Recursive Scores')\n",
    "    columns = (list(df.columns.values))\n",
    "    columns.remove(target_var)\n",
    "    score = list(fit.ranking_)\n",
    "    score = list(map(int, score))\n",
    "    results = pd.DataFrame(columns = columns)\n",
    "    results.loc[''] = score\n",
    "    print(f'The {k} attributes with highest scores are: ')\n",
    "    count = 1\n",
    "    while count <= k:\n",
    "        min_value = results.astype('float64').idxmin(axis=1)\n",
    "        print(f'{count}: ' + min_value.values)\n",
    "        results = results.drop(columns = min_value.values)\n",
    "        count += 1\n",
    "    print('------------')\n",
    "    \n",
    "recursive_elimination(rescaledX,Y,df_train,'default')"
   ]
  },
  {
   "cell_type": "code",
   "execution_count": 31,
   "metadata": {},
   "outputs": [
    {
     "name": "stdout",
     "output_type": "stream",
     "text": [
      "\u001b[1mFeature Importance Scores\n",
      "\u001b[0m\n",
      "The importance of attributes in descending order: \n",
      "\n",
      "minority        0.25\n",
      "rent            0.19\n",
      "job_stability   0.16\n",
      "ZIP_MT15PA      0.14\n",
      "ZIP_MT04PA      0.10\n",
      "dtype: float64\n",
      "------------\n"
     ]
    }
   ],
   "source": [
    "# determining importance of features with trees\n",
    "def extra_trees(x,y,df,target_var,estimators=100):\n",
    "    from sklearn.ensemble import ExtraTreesClassifier\n",
    "    model = ExtraTreesClassifier(n_estimators=estimators)\n",
    "    model.fit(x,y)\n",
    "    print_bold('Feature Importance Scores')\n",
    "    score = list(model.feature_importances_)\n",
    "    columns = (list(df.columns.values))\n",
    "    columns.remove(target_var)\n",
    "    results = pd.DataFrame(columns=columns)\n",
    "    results.loc[''] = score\n",
    "    np.set_printoptions(formatter={'float': '{: 0.3f}'.format})\n",
    "    print(f'The importance of attributes in descending order: ')\n",
    "    print()\n",
    "    print(round((results.max().sort_values(ascending=False)),3)[:5])\n",
    "    print('------------')\n",
    "extra_trees(rescaledX,Y,df_train,'default')"
   ]
  },
  {
   "cell_type": "code",
   "execution_count": null,
   "metadata": {},
   "outputs": [],
   "source": []
  }
 ],
 "metadata": {
  "kernelspec": {
   "display_name": "Python 3",
   "language": "python",
   "name": "python3"
  },
  "language_info": {
   "codemirror_mode": {
    "name": "ipython",
    "version": 3
   },
   "file_extension": ".py",
   "mimetype": "text/x-python",
   "name": "python",
   "nbconvert_exporter": "python",
   "pygments_lexer": "ipython3",
   "version": "3.7.3"
  }
 },
 "nbformat": 4,
 "nbformat_minor": 4
}
